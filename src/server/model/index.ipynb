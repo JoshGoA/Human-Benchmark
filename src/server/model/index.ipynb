{
 "cells": [
  {
   "cell_type": "code",
   "execution_count": 2,
   "metadata": {},
   "outputs": [],
   "source": [
    "import tensorflow as tf"
   ]
  },
  {
   "cell_type": "code",
   "execution_count": 4,
   "metadata": {},
   "outputs": [
    {
     "output_type": "execute_result",
     "data": {
      "text/plain": "<module 'tensorflow.keras' from 'c:\\\\Users\\\\Josu\\\\Desktop\\\\Human-Benchmark\\\\Human-Benchmark\\\\src\\\\server\\\\.venv\\\\lib\\\\site-packages\\\\tensorflow\\\\keras\\\\__init__.py'>"
     },
     "metadata": {},
     "execution_count": 4
    }
   ],
   "source": []
  }
 ],
 "metadata": {
  "language_info": {
   "codemirror_mode": {
    "name": "ipython",
    "version": 3
   },
   "file_extension": ".py",
   "mimetype": "text/x-python",
   "name": "python",
   "nbconvert_exporter": "python",
   "pygments_lexer": "ipython3",
   "version": "3.7.5-final"
  },
  "orig_nbformat": 2,
  "kernelspec": {
   "name": "python37564bitvenvvirtualenv1a9281bc51cf44a0ae4e6e67e85d6aa0",
   "display_name": "Python 3.7.5 64-bit ('.venv': virtualenv)"
  }
 },
 "nbformat": 4,
 "nbformat_minor": 2
}