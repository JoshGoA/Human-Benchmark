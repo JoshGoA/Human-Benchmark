{
 "cells": [
  {
   "cell_type": "code",
   "execution_count": null,
   "metadata": {
    "tags": []
   },
   "outputs": [],
   "source": [
    "cd ../.."
   ]
  },
  {
   "cell_type": "code",
   "execution_count": null,
   "metadata": {},
   "outputs": [],
   "source": [
    "! del /q models\\logs\\*\n",
    "! for /d %x in (models\\logs\\*) do @rd /get_model"
   ]
  },
  {
   "cell_type": "code",
   "execution_count": null,
   "metadata": {},
   "outputs": [],
   "source": [
    "%load_ext tensorboard"
   ]
  },
  {
   "cell_type": "code",
   "execution_count": null,
   "metadata": {},
   "outputs": [],
   "source": [
    "import glob\n",
    "from datetime import datetime\n",
    "from os import path\n",
    "\n",
    "import chess\n",
    "import numpy as np\n",
    "from matplotlib import pyplot as plt\n",
    "from scipy import stats\n",
    "from tensorflow.keras import callbacks, models, utils\n",
    "\n",
    "from models import get_model\n",
    "from scripts import moves"
   ]
  },
  {
   "cell_type": "code",
   "execution_count": null,
   "metadata": {
    "tags": []
   },
   "outputs": [],
   "source": [
    "XX, yy_1, yy_2 = [], [], []\n",
    "for file in glob.glob(\"data/npz/test/*.npz\"):\n",
    "# for file in glob.glob(\"data/npz/*/*.npz\"):\n",
    "    with np.load(file) as f:\n",
    "        XX.append(f[\"X\"]), yy_1.append(f[\"y_1\"]), yy_2.append(f[\"y_2\"])\n",
    "X, y_1, y_2 = np.concatenate(XX), np.concatenate(yy_1), np.concatenate(yy_2)"
   ]
  },
  {
   "cell_type": "code",
   "execution_count": null,
   "metadata": {},
   "outputs": [],
   "source": [
    "plt.title(\"Policy Head\")\n",
    "plt.xlabel(\"Index\")\n",
    "plt.ylabel(\"Count\")\n",
    "_ = plt.hist(y_1, bins=len(moves))"
   ]
  },
  {
   "cell_type": "code",
   "execution_count": null,
   "metadata": {},
   "outputs": [],
   "source": [
    "plt.title(\"Value Head\")\n",
    "plt.xlabel(\"Score\")\n",
    "plt.ylabel(\"Density\")\n",
    "_, x, _ = plt.hist(y_2, bins=100, density=True)  \n",
    "_ = plt.plot(x,  stats.gaussian_kde(y_2)(x))"
   ]
  },
  {
   "cell_type": "code",
   "execution_count": null,
   "metadata": {
    "tags": [
     "outputPrepend"
    ]
   },
   "outputs": [],
   "source": [
    "model = get_model()\n",
    "model.summary()"
   ]
  },
  {
   "cell_type": "code",
   "execution_count": null,
   "metadata": {},
   "outputs": [],
   "source": [
    "utils.plot_model(\n",
    "    model,\n",
    "    to_file=f\"models/png/model.png\",\n",
    "    show_shapes=True,\n",
    "    show_layer_names=False\n",
    ")"
   ]
  },
  {
   "cell_type": "code",
   "execution_count": null,
   "metadata": {},
   "outputs": [],
   "source": [
    "callback = (\n",
    "    callbacks.TensorBoard(\n",
    "        log_dir=f\"models/logs/{datetime.now().strftime('%Y%m%d-%H%M%S')}\"\n",
    "    ),\n",
    "    callbacks.ModelCheckpoint(\n",
    "        f\"models/ser/{datetime.now().strftime('%Y%m%d-%H%M%S')}\"\n",
    "    )\n",
    ")"
   ]
  },
  {
   "cell_type": "code",
   "execution_count": null,
   "metadata": {},
   "outputs": [],
   "source": [
    "model.compile(\n",
    "    optimizer=\"adam\",\n",
    "    loss=(\"sparse_categorical_crossentropy\", \"mse\")\n",
    ")"
   ]
  },
  {
   "cell_type": "code",
   "execution_count": null,
   "metadata": {
    "tags": []
   },
   "outputs": [],
   "source": [
    "_ = model.fit(\n",
    "    x=X, y=(y_1, y_2),\n",
    "    batch_size=256,\n",
    "    epochs=5,\n",
    "    # callbacks=callback,\n",
    "    validation_split=.2\n",
    ")"
   ]
  },
  {
   "cell_type": "code",
   "execution_count": null,
   "metadata": {
    "tags": []
   },
   "outputs": [],
   "source": [
    "model.save(\"models/ser/v4\")"
   ]
  },
  {
   "cell_type": "code",
   "execution_count": null,
   "metadata": {},
   "outputs": [],
   "source": [
    "%tensorboard --logdir models/logs"
   ]
  },
  {
   "cell_type": "code",
   "execution_count": null,
   "metadata": {},
   "outputs": [],
   "source": []
  }
 ],
 "metadata": {
  "language_info": {
   "codemirror_mode": {
    "name": "ipython",
    "version": 3
   },
   "file_extension": ".py",
   "mimetype": "text/x-python",
   "name": "python",
   "nbconvert_exporter": "python",
   "pygments_lexer": "ipython3",
   "version": 3
  },
  "orig_nbformat": 2,
  "kernelspec": {
   "name": "python_defaultSpec_1594552268401",
   "display_name": "Python 3.8.0 64-bit"
  }
 },
 "nbformat": 4,
 "nbformat_minor": 2
}