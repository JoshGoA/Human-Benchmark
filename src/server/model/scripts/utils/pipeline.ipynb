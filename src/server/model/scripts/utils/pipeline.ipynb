{
 "cells": [
  {
   "cell_type": "code",
   "execution_count": 137,
   "metadata": {},
   "outputs": [],
   "source": [
    "from typing import Tuple, Union\n",
    "\n",
    "import chess\n",
    "import numpy as np\n",
    "from chess import engine, pgn\n",
    "from tensorflow import data"
   ]
  },
  {
   "cell_type": "code",
   "execution_count": 146,
   "metadata": {},
   "outputs": [],
   "source": [
    "def fen_to_bitmap(fen: str) -> np.ndarray:\n",
    "    board = chess.BaseBoard(fen)\n",
    "    bitmap = np.zeros((len(chess.FILE_NAMES), len(chess.RANK_NAMES), len(chess.PIECE_TYPES)))\n",
    "    for piece_idx, piece_type in enumerate(chess.PIECE_TYPES):\n",
    "        for file_idx in range(len(chess.FILE_NAMES)):\n",
    "            for rank_idx in range(len(chess.RANK_NAMES)):\n",
    "                piece = board.piece_at(file_idx * len(chess.RANK_NAMES) + rank_idx)\n",
    "                if piece and piece.piece_type is piece_type:\n",
    "                    bitmap[file_idx, rank_idx, piece_idx] = 1 if piece.color is chess.WHITE else -1\n",
    "    return bitmap"
   ]
  },
  {
   "cell_type": "code",
   "execution_count": 166,
   "metadata": {},
   "outputs": [],
   "source": [
    "def cp_to_int(info: dict) -> int:\n",
    "    # return info[\"score\"]\n",
    "    return 1"
   ]
  },
  {
   "cell_type": "code",
   "execution_count": 167,
   "metadata": {},
   "outputs": [],
   "source": [
    "def generate(file: Union[bytes, str], command: str) -> Tuple[str, int]:\n",
    "\n",
    "    # BUG: Tensorflow converts input to bytes\n",
    "    command = command.decode(\"utf-8\")\n",
    "\n",
    "    simple_engine = engine.SimpleEngine.popen_uci(command)\n",
    "    with open(file) as f:\n",
    "        while True:\n",
    "            game = pgn.read_game(f)\n",
    "            if not game:\n",
    "                break\n",
    "            mainline = game.mainline()\n",
    "            if mainline:\n",
    "                board = np.random.choice(list(mainline)).board()\n",
    "                bitmap = fen_to_bitmap(board.board_fen())\n",
    "                score = cp_to_int(simple_engine.analyse(board, engine.Limit()))\n",
    "                yield bitmap, score"
   ]
  },
  {
   "cell_type": "code",
   "execution_count": 164,
   "metadata": {
    "tags": []
   },
   "outputs": [],
   "source": [
    "dataset = data.Dataset.from_generator(\n",
    "    generate, (np.int8, np.int8),\n",
    "    output_shapes=((8, 8, 6), ()),\n",
    "    args=(\n",
    "        \"../../data/2019.pgn\",\n",
    "        \"../../lib/stockfish-11-win/Windows/stockfish_20011801_x64_modern.exe\"\n",
    "    )\n",
    ")"
   ]
  },
  {
   "cell_type": "code",
   "execution_count": 168,
   "metadata": {},
   "outputs": [
    {
     "output_type": "execute_result",
     "data": {
      "text/plain": "<FlatMapDataset shapes: ((8, 8, 6), ()), types: (tf.int8, tf.int8)>"
     },
     "metadata": {},
     "execution_count": 168
    }
   ],
   "source": [
    "dataset"
   ]
  },
  {
   "cell_type": "code",
   "execution_count": null,
   "metadata": {},
   "outputs": [],
   "source": []
  }
 ],
 "metadata": {
  "language_info": {
   "codemirror_mode": {
    "name": "ipython",
    "version": 3
   },
   "file_extension": ".py",
   "mimetype": "text/x-python",
   "name": "python",
   "nbconvert_exporter": "python",
   "pygments_lexer": "ipython3",
   "version": 3
  },
  "orig_nbformat": 2,
  "kernelspec": {
   "name": "python_defaultSpec_1593601582467",
   "display_name": "Python 3.7.5 64-bit"
  }
 },
 "nbformat": 4,
 "nbformat_minor": 2
}