{
 "cells": [
  {
   "cell_type": "code",
   "execution_count": null,
   "metadata": {},
   "outputs": [],
   "source": [
    "import chess\n",
    "import numpy as np\n",
    "from chess import engine\n",
    "from tensorflow.keras import models"
   ]
  },
  {
   "cell_type": "code",
   "execution_count": null,
   "metadata": {},
   "outputs": [],
   "source": [
    "def bitboard(board: chess.Board) -> np.ndarray:\n",
    "    bitmap = np.zeros(\n",
    "        (len(chess.FILE_NAMES), len(chess.RANK_NAMES), len(chess.PIECE_TYPES)), dtype=int\n",
    "    )\n",
    "    for piece_idx, piece_type in enumerate(chess.PIECE_TYPES):\n",
    "        for square in chess.SQUARES:\n",
    "            piece = board.piece_at(square)\n",
    "            if piece and piece.piece_type is piece_type:\n",
    "                bitmap[\n",
    "                    chess.square_rank(square),\n",
    "                    chess.square_file(square),\n",
    "                    piece_idx\n",
    "                ] = 1 if piece.color else -1\n",
    "    return bitmap\n",
    "\n",
    "\n",
    "def absolute_bitboard(board: chess.Board) -> np.ndarray:\n",
    "    bitmap = bitboard(board)\n",
    "    return np.dstack((bitmap, np.full(bitmap.shape[:-1], 1 if board.turn else -1)))\n",
    "\n",
    "\n",
    "def relative_bitboard(board: chess.Board) -> np.ndarray:\n",
    "    bitmap = bitboard(board)\n",
    "    return bitmap if board.turn else np.flip(bitmap, axis=range(bitmap.ndim - 1)) * -1"
   ]
  },
  {
   "cell_type": "code",
   "execution_count": null,
   "metadata": {},
   "outputs": [],
   "source": [
    "board = chess.Board(chess.STARTING_FEN)"
   ]
  },
  {
   "cell_type": "code",
   "execution_count": null,
   "metadata": {},
   "outputs": [],
   "source": [
    "model = models.load_model(\"ser/v2\")"
   ]
  },
  {
   "cell_type": "code",
   "execution_count": null,
   "metadata": {},
   "outputs": [],
   "source": [
    "simple_engine = engine.SimpleEngine.popen_uci(\"../lib/stockfish/stockfish\")"
   ]
  },
  {
   "cell_type": "code",
   "execution_count": null,
   "metadata": {},
   "outputs": [],
   "source": [
    "(\n",
    "    model.predict(np.array([relative_bitboard(board)])),\n",
    "    simple_engine.analyse(board, engine.Limit(time=.1))[\"score\"]\n",
    ")"
   ]
  },
  {
   "cell_type": "code",
   "execution_count": null,
   "metadata": {},
   "outputs": [],
   "source": [
    "move = board.push_san(\"d4\")\n",
    "# board.pop()\n",
    "board"
   ]
  },
  {
   "cell_type": "code",
   "execution_count": null,
   "metadata": {},
   "outputs": [],
   "source": []
  }
 ],
 "metadata": {
  "language_info": {
   "codemirror_mode": {
    "name": "ipython",
    "version": 3
   },
   "file_extension": ".py",
   "mimetype": "text/x-python",
   "name": "python",
   "nbconvert_exporter": "python",
   "pygments_lexer": "ipython3",
   "version": 3
  },
  "orig_nbformat": 2
 },
 "nbformat": 4,
 "nbformat_minor": 2
}