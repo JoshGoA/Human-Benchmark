{
 "cells": [
  {
   "cell_type": "code",
   "execution_count": 1,
   "metadata": {
    "tags": []
   },
   "outputs": [
    {
     "output_type": "stream",
     "name": "stdout",
     "text": "c:\\Users\\Josu\\Documents\\Workspace\\Human-Benchmark\\src\\server\\model\n"
    }
   ],
   "source": [
    "cd ../.."
   ]
  },
  {
   "cell_type": "code",
   "execution_count": null,
   "metadata": {},
   "outputs": [],
   "source": [
    "! del /q models\\logs\\*\n",
    "! for /d %x in (models\\logs\\*) do @rd /get_model"
   ]
  },
  {
   "cell_type": "code",
   "execution_count": null,
   "metadata": {},
   "outputs": [],
   "source": [
    "%load_ext teget_model\n",
    "# %tensorboard --logdir=models/logs"
   ]
  },
  {
   "cell_type": "code",
   "execution_count": 5,
   "metadata": {},
   "outputs": [],
   "source": [
    "import glob\n",
    "from datetime import datetime\n",
    "\n",
    "import chess\n",
    "import numpy as np\n",
    "from matplotlib import pyplot as plt\n",
    "from scipy import stats\n",
    "from tensorflow.keras import callbacks, utils\n",
    "\n",
    "from models import get_model\n",
    "from scripts import absolute_bitboard"
   ]
  },
  {
   "cell_type": "code",
   "execution_count": null,
   "metadata": {},
   "outputs": [],
   "source": [
    "XX, yy = [], []\n",
    "for file in glob.glob(\"data/npz/*.npz\"):\n",
    "    with np.load(file) as f:\n",
    "        XX.append(f[\"X\"]), yy.append(f[\"y\"])\n",
    "X, y = np.concatenate(XX), np.concatenate(yy)"
   ]
  },
  {
   "cell_type": "code",
   "execution_count": null,
   "metadata": {},
   "outputs": [],
   "source": [
    "_, x, _ = plt.hist(y, bins=75, density=True)  \n",
    "ax = plt.plot(x,  stats.gaussian_kde(y)(x))"
   ]
  },
  {
   "cell_type": "code",
   "execution_count": null,
   "metadata": {},
   "outputs": [],
   "source": [
    "model = get_modelget_model()\n",
    "model.summary()"
   ]
  },
  {
   "cell_type": "code",
   "execution_count": null,
   "metadata": {},
   "outputs": [],
   "source": [
    "utils.plot_model(model, to_file=f\"models/png/model.png\")"
   ]
  },
  {
   "cell_type": "code",
   "execution_count": null,
   "metadata": {},
   "outputs": [],
   "source": [
    "tensor_board = callbacks.TensorBoard(\n",
    "    log_dir=f\"models/logs/{datetime.now().strftime('%Y%m%d-%H%M%S')}\"\n",
    ")\n",
    "# model_checkpoint = callbacks.ModelCheckpoint(\n",
    "#     f\"models/ser/{datetime.now().strftime('%Y%m%d-%H%M%S')}\"\n",
    "# )"
   ]
  },
  {
   "cell_type": "code",
   "execution_count": null,
   "metadata": {},
   "outputs": [],
   "source": [
    "model.compile(\n",
    "    optimizer=\"adam\",\n",
    "    loss=\"mse\"\n",
    "    # metrics=(\"mae\",)\n",
    ")"
   ]
  },
  {
   "cell_type": "code",
   "execution_count": null,
   "metadata": {},
   "outputs": [],
   "source": [
    "_ = model.fit(\n",
    "    x=X, y=y,\n",
    "    batch_size=256,\n",
    "    epochs=5,\n",
    "    # callbacks=(tensor_board, model_checkpoint),# callbacks=(tensor_board, model_checkpoint),\n",
    "    validation_split=.2\n",
    ")"
   ]
  },
  {
   "cell_type": "code",
   "execution_count": null,
   "metadata": {},
   "outputs": [],
   "source": [
    "model.save(\"models/ser/v3\")"
   ]
  },
  {
   "cell_type": "code",
   "execution_count": null,
   "metadata": {},
   "outputs": [],
   "source": []
  },
  {
   "cell_type": "code",
   "execution_count": null,
   "metadata": {},
   "outputs": [],
   "source": [
    "# TEST\n",
    "model = keras.Sequential(\n",
    "    layers=(\n",
    "    \tConv2D(32, (3, 3), activation=\"relu\", input_shape=(8, 8, 6)),\n",
    "    \tConv2D(64, (3, 3), activation=\"relu\"),\n",
    "    \tGlobalAveragePooling2D(),\n",
    "    \tDense(32, activation=\"relu\"),\n",
    "    \tDense(1, activation=\"tanh\")\n",
    "    )\n",
    ")\n",
    "model.summary()"
   ]
  },
  {
   "cell_type": "code",
   "execution_count": null,
   "metadata": {},
   "outputs": [],
   "source": []
  }
 ],
 "metadata": {
  "language_info": {
   "codemirror_mode": {
    "name": "ipython",
    "version": 3
   },
   "file_extension": ".py",
   "mimetype": "text/x-python",
   "name": "python",
   "nbconvert_exporter": "python",
   "pygments_lexer": "ipython3",
   "version": 3
  },
  "orig_nbformat": 2,
  "kernelspec": {
   "name": "python_defaultSpec_1594380713834",
   "display_name": "Python 3.8.0 64-bit"
  }
 },
 "nbformat": 4,
 "nbformat_minor": 2
}