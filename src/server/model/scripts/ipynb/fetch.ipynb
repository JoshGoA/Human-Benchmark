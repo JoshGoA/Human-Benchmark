{
 "cells": [
  {
   "cell_type": "code",
   "execution_count": 1,
   "metadata": {
    "tags": []
   },
   "outputs": [
    {
     "output_type": "stream",
     "name": "stdout",
     "text": "c:\\Users\\Josu\\Documents\\Workspace\\Human-Benchmark\\src\\server\\model\n"
    }
   ],
   "source": [
    "cd ../.."
   ]
  },
  {
   "cell_type": "code",
   "execution_count": 2,
   "metadata": {},
   "outputs": [],
   "source": [
    "import asyncio\n",
    "import glob\n",
    "import pathlib\n",
    "import random\n",
    "import threading\n",
    "from typing import Any, Awaitable, Optional, Union\n",
    "\n",
    "import chess\n",
    "import numpy as np\n",
    "from chess import engine, pgn\n",
    "\n",
    "from scripts import bitboard, moves, synchronize, tanh"
   ]
  },
  {
   "cell_type": "code",
   "execution_count": null,
   "metadata": {},
   "outputs": [],
   "source": [
    "async def fetch(file: Union[str, bytes, int], /, *, checkpoint: Optional[int] = None) -> None:\n",
    "    kwds = {x: [] for x in (\"X\", \"y_1\", \"y_2\")}\n",
    "    _, uci_protocol = await engine.popen_uci(\"lib/stockfish/stockfish\")\n",
    "    with open(file) as f:\n",
    "        savez = lambda: np.savez(f\"data/npz/{pathlib.PurePath(f.name).stem}\", **kwds)\n",
    "        while True:\n",
    "            try:\n",
    "                try:\n",
    "                    play_result = await uci_protocol.play(\n",
    "                        board := random.choice(tuple(pgn.read_game(f).mainline())).board(),\n",
    "                        limit=engine.Limit(time=.1),\n",
    "                        info=engine.INFO_SCORE\n",
    "                    )\n",
    "                except AttributeError:\n",
    "                    break\n",
    "                for kwd, x in zip(kwds.values(), (\n",
    "                    bitboard(\n",
    "                        board,\n",
    "                        dtype=int\n",
    "                    ),\n",
    "                    moves.index(\n",
    "                        (play_result.move if board.turn else chess.Move(\n",
    "                            *(len(chess.SQUARES) - np.array((\n",
    "                                play_result.move.from_square,\n",
    "                                play_result.move.to_square\n",
    "                            )) - 1),\n",
    "                            promotion=play_result.move.promotion\n",
    "                        )).uci()\n",
    "                    ),\n",
    "                    tanh(\n",
    "                        play_result.info[\"score\"].relative.score(\n",
    "                            mate_score=7625\n",
    "                        ),\n",
    "                        k=.0025\n",
    "                    )\n",
    "                )):\n",
    "                    kwd.append(x)\n",
    "            except (AttributeError, IndexError, ValueError):\n",
    "                continue\n",
    "            if checkpoint and not len(kwds[\"X\"]) % checkpoint:\n",
    "                savez()\n",
    "        savez()\n",
    "        await uci_protocol.quit()"
   ]
  },
  {
   "cell_type": "code",
   "execution_count": null,
   "metadata": {},
   "outputs": [],
   "source": [
    "async def main() -> None:\n",
    "    semaphore = asyncio.Semaphore(value=3)\n",
    "    await asyncio.gather(*(\n",
    "        synchronize(semaphore)(fetch)(\n",
    "            file, checkpoint=10000\n",
    "        ) for file in glob.glob(\"data/*.pgn\")\n",
    "    ))"
   ]
  },
  {
   "cell_type": "code",
   "execution_count": null,
   "metadata": {},
   "outputs": [],
   "source": [
    "def run(main: Awaitable[Any], /, *, debug: bool = False) -> None:\n",
    "    asyncio.set_event_loop_policy(engine.EventLoopPolicy())\n",
    "    asyncio.run(main, debug=debug)"
   ]
  },
  {
   "cell_type": "code",
   "execution_count": null,
   "metadata": {
    "tags": []
   },
   "outputs": [],
   "source": [
    "threading.Thread(target=run, args=(main(),)).start()"
   ]
  },
  {
   "cell_type": "code",
   "execution_count": null,
   "metadata": {},
   "outputs": [],
   "source": []
  }
 ],
 "metadata": {
  "language_info": {
   "codemirror_mode": {
    "name": "ipython",
    "version": 3
   },
   "file_extension": ".py",
   "mimetype": "text/x-python",
   "name": "python",
   "nbconvert_exporter": "python",
   "pygments_lexer": "ipython3",
   "version": 3
  },
  "orig_nbformat": 2,
  "kernelspec": {
   "name": "python_defaultSpec_1594904383357",
   "display_name": "Python 3.8.0 64-bit ('.venv': virtualenv)"
  }
 },
 "nbformat": 4,
 "nbformat_minor": 2
}