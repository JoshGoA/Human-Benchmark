{
 "cells": [
  {
   "cell_type": "code",
   "execution_count": 1,
   "metadata": {
    "tags": []
   },
   "outputs": [
    {
     "output_type": "stream",
     "name": "stdout",
     "text": "c:\\Users\\Josu\\Documents\\Workspace\\Human-Benchmark\\src\\server\\model\n"
    }
   ],
   "source": [
    "cd ../.."
   ]
  },
  {
   "cell_type": "code",
   "execution_count": 5,
   "metadata": {
    "tags": []
   },
   "outputs": [],
   "source": [
    "import asyncio\n",
    "import glob\n",
    "import pathlib\n",
    "import threading\n",
    "from typing import Any, Awaitable\n",
    "\n",
    "import aiofiles\n",
    "import numpy as np\n",
    "from chess import engine, pgn\n",
    "from scripts.utils import bitboard, tanh"
   ]
  },
  {
   "cell_type": "code",
   "execution_count": 3,
   "metadata": {},
   "outputs": [],
   "source": [
    "async def worker(path: pathlib.PurePath, semaphore: asyncio.Semaphore, *, checkpoint: int = 10000) -> None:\n",
    "    async with semaphore:\n",
    "        kwds = {\"X\": [], \"y\": []}\n",
    "        _, simple_engine = await engine.popen_uci(\n",
    "            \"lib/stockfish-11-win/stockfish-11-win/Windows/stockfish_20011801_x64\"\n",
    "        )\n",
    "        async with aiofiles.open(path) as f:\n",
    "            i = 0\n",
    "            save_checkpoint = lambda: np.savez(\n",
    "                f\"data/npz/{path.stem}\", **kwds\n",
    "            )\n",
    "            while True:\n",
    "                game = pgn.read_game(f._file)\n",
    "                if not game:\n",
    "                    break\n",
    "                mainline = game.mainline()\n",
    "                if mainline:\n",
    "                    board = np.random.choice(list(mainline)).board()\n",
    "                    kwds[\"X\"].append(\n",
    "                        bitboard(board)\n",
    "                    ),\n",
    "                    kwds[\"y\"].append(\n",
    "                        tanh((await simple_engine.analyse(\n",
    "                            board,\n",
    "                            engine.Limit(time=0.1)\n",
    "                        ))[\"score\"].relative.score(mate_score=32768))\n",
    "                    )\n",
    "                    i += 1\n",
    "                    if i % checkpoint == 0:\n",
    "                        save_checkpoint()\n",
    "        await simple_engine.quit()\n",
    "        save_checkpoint()"
   ]
  },
  {
   "cell_type": "code",
   "execution_count": 4,
   "metadata": {},
   "outputs": [],
   "source": [
    "async def main() -> None:\n",
    "    semaphore = asyncio.Semaphore(3)\n",
    "    await asyncio.gather(*(\n",
    "        asyncio.ensure_future(\n",
    "            worker(pathlib.PurePath(file), semaphore)\n",
    "        ) for file in glob.glob(\"data/*.pgn\")\n",
    "    ))"
   ]
  },
  {
   "cell_type": "code",
   "execution_count": 5,
   "metadata": {},
   "outputs": [],
   "source": [
    "def run(main: Awaitable[Any], *, debug: bool = False) -> None:\n",
    "    asyncio.set_event_loop_policy(\n",
    "        engine.EventLoopPolicy()\n",
    "    )\n",
    "    asyncio.run(\n",
    "        main,\n",
    "        debug=debug\n",
    "    )"
   ]
  },
  {
   "cell_type": "code",
   "execution_count": 6,
   "metadata": {
    "tags": []
   },
   "outputs": [],
   "source": [
    "threading.Thread(\n",
    "    target=run,\n",
    "    args=(main(),)\n",
    ").start()"
   ]
  },
  {
   "cell_type": "code",
   "execution_count": null,
   "metadata": {},
   "outputs": [],
   "source": []
  }
 ],
 "metadata": {
  "language_info": {
   "codemirror_mode": {
    "name": "ipython",
    "version": 3
   },
   "file_extension": ".py",
   "mimetype": "text/x-python",
   "name": "python",
   "nbconvert_exporter": "python",
   "pygments_lexer": "ipython3",
   "version": 3
  },
  "orig_nbformat": 2,
  "kernelspec": {
   "name": "python_defaultSpec_1593944529817",
   "display_name": "Python 3.7.5 64-bit"
  }
 },
 "nbformat": 4,
 "nbformat_minor": 2
}