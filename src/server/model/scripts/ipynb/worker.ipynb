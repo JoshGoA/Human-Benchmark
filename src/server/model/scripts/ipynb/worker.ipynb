{
 "cells": [
  {
   "cell_type": "code",
   "execution_count": 1,
   "metadata": {
    "tags": []
   },
   "outputs": [
    {
     "output_type": "stream",
     "name": "stdout",
     "text": "c:\\Users\\Josu\\Documents\\Workspace\\Human-Benchmark\\src\\server\\model\\scripts\n"
    }
   ],
   "source": [
    "cd .."
   ]
  },
  {
   "cell_type": "code",
   "execution_count": 2,
   "metadata": {
    "tags": []
   },
   "outputs": [],
   "source": [
    "import asyncio\n",
    "import glob\n",
    "import pathlib\n",
    "import threading\n",
    "\n",
    "import aiofiles\n",
    "import numpy as np\n",
    "from chess import engine, pgn\n",
    "from scipy import special\n",
    "\n",
    "from utils import bitboard"
   ]
  },
  {
   "cell_type": "code",
   "execution_count": 3,
   "metadata": {},
   "outputs": [],
   "source": [
    "async def worker(path: pathlib.PurePath, semaphore, *, checkpoint: int = 10000):\n",
    "\n",
    "    def save_checkpoint():\n",
    "        np.savez(\n",
    "            f\"../data/npz/{path.stem}\",\n",
    "            **kwds\n",
    "        )\n",
    "\n",
    "    async with semaphore:\n",
    "        kwds = {\"X\": [], \"y\": []}\n",
    "        _, simple_engine = await engine.popen_uci(\n",
    "            \"../lib/stockfish-11-win/stockfish-11-win/Windows/stockfish_20011801_x64_modern\"\n",
    "        )\n",
    "        async with aiofiles.open(path) as f:\n",
    "            i = 0\n",
    "            while True:\n",
    "                game = pgn.read_game(f._file)\n",
    "                if not game:\n",
    "                    break\n",
    "                mainline = game.mainline()\n",
    "                if mainline:\n",
    "                    board = np.random.choice(list(mainline)).board()\n",
    "                    kwds[\"X\"].append(\n",
    "                        bitboard(board)\n",
    "                    ),\n",
    "                    kwds[\"y\"].append(\n",
    "                        special.expit(\n",
    "                            (await simple_engine.analyse(\n",
    "                                board,\n",
    "                                engine.Limit(depth=15)\n",
    "                            ))[\"score\"].relative.score(mate_score=32768) / 100\n",
    "                        )\n",
    "                    )\n",
    "                    i += 1\n",
    "                    if i % checkpoint == 0:\n",
    "                        save_checkpoint()\n",
    "        await simple_engine.quit()\n",
    "        save_checkpoint()"
   ]
  },
  {
   "cell_type": "code",
   "execution_count": 4,
   "metadata": {},
   "outputs": [],
   "source": [
    "async def main():\n",
    "    semaphore = asyncio.Semaphore(3)\n",
    "    await asyncio.gather(*(\n",
    "        asyncio.ensure_future(\n",
    "            worker(pathlib.PurePath(file), semaphore)\n",
    "        )\n",
    "        for file in glob.glob(\n",
    "            \"../data/*.pgn\"\n",
    "        )\n",
    "    ))"
   ]
  },
  {
   "cell_type": "code",
   "execution_count": 5,
   "metadata": {},
   "outputs": [],
   "source": [
    "def run(main, *, debug=False):\n",
    "    asyncio.set_event_loop_policy(\n",
    "        engine.EventLoopPolicy()\n",
    "    )\n",
    "    asyncio.run(\n",
    "        main,\n",
    "        debug=debug\n",
    "    )"
   ]
  },
  {
   "cell_type": "code",
   "execution_count": 6,
   "metadata": {
    "tags": []
   },
   "outputs": [],
   "source": [
    "threading.Thread(\n",
    "    target=run,\n",
    "    args=(main(),)\n",
    ").start()"
   ]
  },
  {
   "cell_type": "code",
   "execution_count": null,
   "metadata": {},
   "outputs": [],
   "source": []
  }
 ],
 "metadata": {
  "language_info": {
   "codemirror_mode": {
    "name": "ipython",
    "version": 3
   },
   "file_extension": ".py",
   "mimetype": "text/x-python",
   "name": "python",
   "nbconvert_exporter": "python",
   "pygments_lexer": "ipython3",
   "version": 3
  },
  "orig_nbformat": 2,
  "kernelspec": {
   "name": "python_defaultSpec_1593810198698",
   "display_name": "Python 3.7.5 64-bit"
  }
 },
 "nbformat": 4,
 "nbformat_minor": 2
}