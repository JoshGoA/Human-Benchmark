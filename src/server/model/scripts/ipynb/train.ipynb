{
 "cells": [
  {
   "cell_type": "code",
   "execution_count": null,
   "metadata": {
    "tags": []
   },
   "outputs": [],
   "source": [
    "cd ../.."
   ]
  },
  {
   "cell_type": "code",
   "execution_count": null,
   "metadata": {},
   "outputs": [],
   "source": [
    "import glob\n",
    "\n",
    "import chess\n",
    "import numpy as np\n",
    "from scripts.utils import bitboard\n",
    "from tensorflow import data, keras\n",
    "from tensorflow.keras import layers"
   ]
  },
  {
   "cell_type": "code",
   "execution_count": null,
   "metadata": {
    "tags": []
   },
   "outputs": [],
   "source": [
    "XX, yy = [], []\n",
    "for file in glob.glob(\"data/npz/*.npz\"):\n",
    "    with np.load(file) as f:\n",
    "        XX.append(f[\"X\"]), yy.append(f[\"y\"])\n",
    "X, y = np.concatenate(XX), np.concatenate(yy)"
   ]
  },
  {
   "cell_type": "code",
   "execution_count": null,
   "metadata": {},
   "outputs": [],
   "source": [
    "X = X.astype(np.float32)"
   ]
  },
  {
   "cell_type": "code",
   "execution_count": 48,
   "metadata": {
    "tags": []
   },
   "outputs": [
    {
     "output_type": "stream",
     "name": "stdout",
     "text": "Model: \"sequential_15\"\n_________________________________________________________________\nLayer (type)                 Output Shape              Param #   \n=================================================================\nconv2d_32 (Conv2D)           (None, 8, 8, 5)           755       \n_________________________________________________________________\nconv2d_33 (Conv2D)           (None, 8, 8, 10)          460       \n_________________________________________________________________\nflatten_8 (Flatten)          (None, 640)               0         \n_________________________________________________________________\ndense_28 (Dense)             (None, 100)               64100     \n_________________________________________________________________\ndense_29 (Dense)             (None, 1)                 101       \n=================================================================\nTotal params: 65,416\nTrainable params: 65,416\nNon-trainable params: 0\n_________________________________________________________________\n"
    }
   ],
   "source": [
    "model = keras.Sequential((\n",
    "    layers.Conv2D(5, (5, 5), padding=\"same\", activation=\"relu\", input_shape=(8, 8, 6)),\n",
    "    layers.Conv2D(10, (3, 3), padding=\"same\", activation=\"relu\"),\n",
    "    layers.Flatten(),\n",
    "    layers.Dense(100, activation=\"relu\"),\n",
    "    layers.Dense(1, activation=\"sigmoid\")\n",
    "))\n",
    "model.summary()"
   ]
  },
  {
   "cell_type": "code",
   "execution_count": 49,
   "metadata": {},
   "outputs": [],
   "source": [
    "model.compile(\n",
    "    optimizer=\"adam\",\n",
    "    loss=\"mse\",\n",
    "    metrics=[\"accuracy\"]\n",
    ")"
   ]
  },
  {
   "cell_type": "code",
   "execution_count": null,
   "metadata": {
    "tags": []
   },
   "outputs": [],
   "source": [
    "history = model.fit(\n",
    "    x=data.Dataset.from_tensor_slices((X, y)).batch(32).repeat(1),\n",
    "    epochs=2\n",
    ")"
   ]
  },
  {
   "cell_type": "code",
   "execution_count": 50,
   "metadata": {
    "tags": []
   },
   "outputs": [
    {
     "output_type": "stream",
     "name": "stdout",
     "text": "Epoch 1/2\n5236/5236 [==============================] - 33s 6ms/step - loss: 0.0638 - accuracy: 0.0207 - val_loss: 0.0615 - val_accuracy: 0.0288\nEpoch 2/2\n5236/5236 [==============================] - 35s 7ms/step - loss: 0.0560 - accuracy: 0.0212 - val_loss: 0.0566 - val_accuracy: 0.0290\n"
    }
   ],
   "source": [
    "history = model.fit(\n",
    "    x=X,\n",
    "    y=y,\n",
    "    batch_size=32,\n",
    "    epochs=2,\n",
    "    validation_split=0.2\n",
    ")"
   ]
  },
  {
   "cell_type": "code",
   "execution_count": 52,
   "metadata": {},
   "outputs": [
    {
     "output_type": "execute_result",
     "data": {
      "text/plain": "array([[0.46909174]], dtype=float32)"
     },
     "metadata": {},
     "execution_count": 52
    }
   ],
   "source": [
    "model.predict(\n",
    "    np.array([\n",
    "        bitboard(chess.Board(\"rnbqkbnr/1ppp1ppp/8/p3p3/2B1P3/5Q2/PPPP1PPP/RNB1K1NR b KQkq - 0 1\"))\n",
    "    ])\n",
    ")"
   ]
  },
  {
   "cell_type": "code",
   "execution_count": null,
   "metadata": {},
   "outputs": [],
   "source": []
  }
 ],
 "metadata": {
  "language_info": {
   "codemirror_mode": {
    "name": "ipython",
    "version": 3
   },
   "file_extension": ".py",
   "mimetype": "text/x-python",
   "name": "python",
   "nbconvert_exporter": "python",
   "pygments_lexer": "ipython3",
   "version": 3
  },
  "orig_nbformat": 2,
  "kernelspec": {
   "name": "python_defaultSpec_1593807796349",
   "display_name": "Python 3.7.5 64-bit"
  }
 },
 "nbformat": 4,
 "nbformat_minor": 2
}