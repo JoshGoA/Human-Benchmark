{
 "cells": [
  {
   "cell_type": "code",
   "execution_count": 2,
   "metadata": {},
   "outputs": [],
   "source": [
    "import chess\n",
    "from chess import pgn"
   ]
  },
  {
   "cell_type": "code",
   "execution_count": 11,
   "metadata": {},
   "outputs": [],
   "source": [
    "with open(\"../data/2019.pgn\") as f:\n",
    "    game = pgn.read_game(f)"
   ]
  },
  {
   "cell_type": "code",
   "execution_count": 53,
   "metadata": {
    "tags": []
   },
   "outputs": [
    {
     "output_type": "stream",
     "name": "stdout",
     "text": "4\n"
    }
   ],
   "source": [
    "def f(board, piece_type):\n",
    "    \"\"\"\n",
    "    Generate piece_type board bitmap.\n",
    "    \"\"\"\n",
    "    pass"
   ]
  },
  {
   "cell_type": "code",
   "execution_count": 58,
   "metadata": {
    "tags": []
   },
   "outputs": [
    {
     "output_type": "stream",
     "name": "stdout",
     "text": "r\nn\nb\nk\nq\nb\nn\nr\np\np\np\np\np\np\np\np\nP\nP\nP\nP\nP\nP\nP\nP\nR\nN\nB\nK\nQ\nB\nN\nR\n"
    }
   ],
   "source": [
    "for square, piece in game.board().piece_map().items():\n",
    "    piece_type = piece.piece_type\n",
    "    print(piece)\n",
    "    if piece_type == chess.PAWN:\n",
    "        pass\n",
    "    elif piece_type == chess.KNIGHT:\n",
    "        pass\n",
    "    elif piece_type == chess.BISHOP:\n",
    "        pass\n",
    "    elif piece_type == chess.ROOK:\n",
    "        pass\n",
    "    elif piece_type == chess.QUEEN:\n",
    "        pass\n",
    "    elif piece_type == chess.KING:\n",
    "        pass\n",
    "    else:\n",
    "        continue"
   ]
  },
  {
   "cell_type": "code",
   "execution_count": null,
   "metadata": {},
   "outputs": [],
   "source": []
  }
 ],
 "metadata": {
  "language_info": {
   "codemirror_mode": {
    "name": "ipython",
    "version": 3
   },
   "file_extension": ".py",
   "mimetype": "text/x-python",
   "name": "python",
   "nbconvert_exporter": "python",
   "pygments_lexer": "ipython3",
   "version": "3.7.5-final"
  },
  "orig_nbformat": 2,
  "kernelspec": {
   "name": "python37564bitbda6e2e208554a78be3bae993430e734",
   "display_name": "Python 3.7.5 64-bit"
  }
 },
 "nbformat": 4,
 "nbformat_minor": 2
}