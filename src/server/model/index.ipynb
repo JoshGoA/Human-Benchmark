{
 "cells": [
  {
   "cell_type": "code",
   "execution_count": 72,
   "metadata": {
    "tags": []
   },
   "outputs": [
    {
     "output_type": "stream",
     "name": "stdout",
     "text": "Minimum: 2.2499646074278457\nIterations: 69\n"
    }
   ],
   "source": [
    "x = 6\n",
    "step_size = 0.01\n",
    "step_tolerance = 0.00001\n",
    "max_iterations = 10000\n",
    "\n",
    "# Derivative function f'(x)\n",
    "df = lambda x: 4 * x**3 - 9 * x ** 2\n",
    "\n",
    "# Gradient descent iteration\n",
    "for j in range(max_iterations):\n",
    "    step = step_size * df(x)\n",
    "    x -= step\n",
    "\n",
    "    if abs(step) <= step_tolerance:\n",
    "        break\n",
    "\n",
    "print('Minimum:', x)\n",
    "print('Iterations:',j)"
   ]
  },
  {
   "cell_type": "code",
   "execution_count": null,
   "metadata": {},
   "outputs": [],
   "source": []
  }
 ],
 "metadata": {
  "language_info": {
   "codemirror_mode": {
    "name": "ipython",
    "version": 3
   },
   "file_extension": ".py",
   "mimetype": "text/x-python",
   "name": "python",
   "nbconvert_exporter": "python",
   "pygments_lexer": "ipython3",
   "version": "3.7.5-final"
  },
  "orig_nbformat": 2,
  "kernelspec": {
   "name": "python37564bitvenvvirtualenv1a9281bc51cf44a0ae4e6e67e85d6aa0",
   "display_name": "Python 3.7.5 64-bit ('.venv': virtualenv)"
  }
 },
 "nbformat": 4,
 "nbformat_minor": 2
}