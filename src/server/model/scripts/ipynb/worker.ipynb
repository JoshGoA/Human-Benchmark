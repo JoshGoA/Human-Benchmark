{
 "cells": [
  {
   "cell_type": "code",
   "execution_count": null,
   "metadata": {},
   "outputs": [],
   "source": [
    "cd ../.."
   ]
  },
  {
   "cell_type": "code",
   "execution_count": null,
   "metadata": {},
   "outputs": [],
   "source": [
    "import asyncio\n",
    "import glob\n",
    "import pathlib\n",
    "import threading\n",
    "from typing import Callable, Mapping\n",
    "\n",
    "import numpy as np\n",
    "from chess import engine, pgn\n",
    "\n",
    "from scripts import bitboard, tanh"
   ]
  },
  {
   "cell_type": "code",
   "execution_count": null,
   "metadata": {},
   "outputs": [],
   "source": [
    "async def worker(path: pathlib.PurePath, semaphore: asyncio.Semaphore, *, checkpoint: int = 10000) -> Mapping[str, list]:\n",
    "    async with semaphore:\n",
    "        kwds = {\"X\": [], \"y\": []}\n",
    "        _, simple_engine = await engine.popen_uci(\n",
    "            \"lib/stockfish/stockfish\"\n",
    "        )\n",
    "        with open(path) as f:\n",
    "            i = 0\n",
    "            save_checkpoint = lambda: np.savez(\n",
    "                f\"data/npz/{path.stem}\", **kwds\n",
    "            )\n",
    "            while True:\n",
    "                if not (game := pgn.read_game(f)):\n",
    "                    break\n",
    "                if mainline := game.mainline():\n",
    "                    board = np.random.choice(list(mainline)).board()\n",
    "                    kwds[\"X\"].append(\n",
    "                        bitboard(board)\n",
    "                    )\n",
    "                    kwds[\"y\"].append(\n",
    "                        tanh(\n",
    "                            (await simple_engine.analyse(\n",
    "                                board,\n",
    "                                engine.Limit(time=0.1)\n",
    "                            ))[\"score\"].relative.score(mate_score=7625), k=0.0025\n",
    "                        )\n",
    "                    )\n",
    "                    i += 1\n",
    "                    if i % checkpoint == 0:\n",
    "                        save_checkpoint()\n",
    "        await simple_engine.quit()\n",
    "        save_checkpoint()\n",
    "        return kwds"
   ]
  },
  {
   "cell_type": "code",
   "execution_count": null,
   "metadata": {},
   "outputs": [],
   "source": [
    "async def main() -> None:\n",
    "    semaphore = asyncio.Semaphore(3)\n",
    "    await asyncio.gather(*(\n",
    "        asyncio.ensure_future(\n",
    "            worker(pathlib.PurePath(file), semaphore)\n",
    "        ) for file in glob.glob(\"data/*.pgn\")\n",
    "    ))"
   ]
  },
  {
   "cell_type": "code",
   "execution_count": null,
   "metadata": {},
   "outputs": [],
   "source": [
    "def run(main: Awaitable[Any], *, debug: bool = False) -> None:\n",
    "    asyncio.set_event_loop_policy(\n",
    "        engine.EventLoopPolicy()\n",
    "    )\n",
    "    asyncio.run(\n",
    "        main,\n",
    "        debug=debug\n",
    "    )"
   ]
  },
  {
   "cell_type": "code",
   "execution_count": null,
   "metadata": {},
   "outputs": [],
   "source": [
    "threading.Thread(\n",
    "    target=run,\n",
    "    args=(main(),)\n",
    ").start()"
   ]
  },
  {
   "cell_type": "code",
   "execution_count": null,
   "metadata": {},
   "outputs": [],
   "source": []
  }
 ],
 "metadata": {
  "language_info": {
   "codemirror_mode": {
    "name": "ipython",
    "version": 3
   },
   "file_extension": ".py",
   "mimetype": "text/x-python",
   "name": "python",
   "nbconvert_exporter": "python",
   "pygments_lexer": "ipython3",
   "version": 3
  },
  "orig_nbformat": 2
 },
 "nbformat": 4,
 "nbformat_minor": 2
}