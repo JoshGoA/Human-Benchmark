{
 "cells": [
  {
   "cell_type": "code",
   "execution_count": 38,
   "metadata": {
    "tags": []
   },
   "outputs": [
    {
     "output_type": "stream",
     "name": "stdout",
     "text": "c:\\Users\\Josu\\Documents\\Workspace\\Human-Benchmark\\src\\server\\model\n"
    }
   ],
   "source": [
    "cd ../.."
   ]
  },
  {
   "cell_type": "code",
   "execution_count": null,
   "metadata": {
    "tags": []
   },
   "outputs": [],
   "source": [
    "! del /q models\\logs\\*\n",
    "! for /d %x in (models\\logs\\*) do @rd /s /q \"%x\""
   ]
  },
  {
   "cell_type": "code",
   "execution_count": 39,
   "metadata": {
    "tags": []
   },
   "outputs": [],
   "source": [
    "%load_ext tensorboard"
   ]
  },
  {
   "cell_type": "code",
   "execution_count": 40,
   "metadata": {},
   "outputs": [],
   "source": [
    "import glob\n",
    "from datetime import datetime\n",
    "\n",
    "import chess\n",
    "import numpy as np\n",
    "from matplotlib import pyplot as plt\n",
    "from scipy import stats\n",
    "from scripts.utils import absolute_bitboard\n",
    "from tensorflow.keras import callbacks, utils"
   ]
  },
  {
   "cell_type": "code",
   "execution_count": 48,
   "metadata": {
    "tags": []
   },
   "outputs": [],
   "source": [
    "XX, yy = [], []\n",
    "for file in glob.glob(\"data/test/*.npz\"):\n",
    "    with np.load(file) as f:\n",
    "        XX.append(f[\"X\"]), yy.append(f[\"y\"])\n",
    "X, y = np.concatenate(XX), np.concatenate(yy)"
   ]
  },
  {
   "cell_type": "code",
   "execution_count": null,
   "metadata": {},
   "outputs": [],
   "source": [
    "_, x, _ = plt.hist(y, bins=75, density=True)  \n",
    "ax = plt.plot(x,  stats.gaussian_kde(y)(x))"
   ]
  },
  {
   "cell_type": "code",
   "execution_count": null,
   "metadata": {
    "tags": []
   },
   "outputs": [],
   "source": [
    "model = DeepChess()"
   ]
  },
  {
   "cell_type": "code",
   "execution_count": null,
   "metadata": {},
   "outputs": [],
   "source": [
    "tensor_board = callbacks.TensorBoard(\n",
    "    log_dir=f\"models/logs/{datetime.now().strftime('%Y%m%d-%H%M%S')}\"\n",
    ")\n",
    "# model_checkpoint = callbacks.ModelCheckpoint(\n",
    "#     f\"models/ser/{datetime.now().strftime('%Y%m%d-%H%M%S')}\"\n",
    "# )"
   ]
  },
  {
   "cell_type": "code",
   "execution_count": 49,
   "metadata": {},
   "outputs": [],
   "source": [
    "model.compile(\n",
    "    optimizer=\"adam\",\n",
    "    loss=\"mse\"\n",
    ")"
   ]
  },
  {
   "cell_type": "code",
   "execution_count": 50,
   "metadata": {
    "tags": []
   },
   "outputs": [
    {
     "output_type": "stream",
     "name": "stdout",
     "text": "Epoch 1/5\n1260/1260 [==============================] - 34s 27ms/step - loss: 0.1711 - val_loss: 0.1787\nEpoch 2/5\n1260/1260 [==============================] - 32s 26ms/step - loss: 0.1436 - val_loss: 0.1614\nEpoch 3/5\n1260/1260 [==============================] - 32s 25ms/step - loss: 0.1345 - val_loss: 0.1567\nEpoch 4/5\n1260/1260 [==============================] - 34s 27ms/step - loss: 0.1295 - val_loss: 0.1581\nEpoch 5/5\n1260/1260 [==============================] - 34s 27ms/step - loss: 0.1243 - val_loss: 0.1432\n"
    }
   ],
   "source": [
    "_ = model.fit(\n",
    "    x=X, y=y,\n",
    "    batch_size=256,\n",
    "    epochs=5,\n",
    "    # callbacks=(tensor_board, model_checkpoint),\n",
    "    validation_split=0.2\n",
    ")"
   ]
  },
  {
   "cell_type": "code",
   "execution_count": 65,
   "metadata": {
    "tags": []
   },
   "outputs": [
    {
     "output_type": "stream",
     "name": "stdout",
     "text": "INFO:tensorflow:Assets written to: models/ser/v1\\assets\n"
    }
   ],
   "source": [
    "model.save(\"models/ser/v1\")"
   ]
  },
  {
   "cell_type": "code",
   "execution_count": null,
   "metadata": {
    "tags": []
   },
   "outputs": [],
   "source": [
    "# %tensorboard --logdir=models/logs"
   ]
  },
  {
   "cell_type": "code",
   "execution_count": 52,
   "metadata": {},
   "outputs": [],
   "source": [
    "import chess\n",
    "from chess import engine\n",
    "simple_engine = engine.SimpleEngine.popen_uci(\"lib/stockfish/stockfish.exe\")"
   ]
  },
  {
   "cell_type": "code",
   "execution_count": 61,
   "metadata": {},
   "outputs": [
    {
     "output_type": "execute_result",
     "data": {
      "text/plain": "{'depth': 11,\n 'seldepth': 17,\n 'multipv': 1,\n 'score': PovScore(Cp(+375), BLACK),\n 'nodes': 53844,\n 'nps': 527882,\n 'tbhits': 0,\n 'time': 0.102,\n 'pv': [Move.from_uci('b5a4'), Move.from_uci('e1g1')]}"
     },
     "metadata": {},
     "execution_count": 61
    }
   ],
   "source": [
    "simple_engine.analyse(\n",
    "    chess.Board(\"r1bqkbnr/2pp1ppp/p1n5/1p2p3/B3P3/5N2/PPPP1PPP/RNBQK2R b KQkq - 0 1\"),\n",
    "    engine.Limit(time=.1)\n",
    ")"
   ]
  },
  {
   "cell_type": "code",
   "execution_count": 63,
   "metadata": {},
   "outputs": [
    {
     "output_type": "execute_result",
     "data": {
      "text/plain": "array([[0.11005957]], dtype=float32)"
     },
     "metadata": {},
     "execution_count": 63
    }
   ],
   "source": [
    "model.predict(\n",
    "    np.array([\n",
    "        absolute_bitboard(\n",
    "            chess.Board(\"r1bqkbnr/2pp1ppp/p1n5/4p3/p3P3/5N2/PPPP1PPP/RNBQK2R w KQkq - 0 1\")\n",
    "        )\n",
    "    ])\n",
    ")"
   ]
  },
  {
   "cell_type": "code",
   "execution_count": 26,
   "metadata": {},
   "outputs": [],
   "source": [
    "import tensorflow as tf\n",
    "from tensorflow import keras\n",
    "from tensorflow.keras import utils\n",
    "from tensorflow.keras.layers import (Activation, Add, AveragePooling2D, Conv2D, Dense,\n",
    "                                     Dropout, Flatten, GlobalAveragePooling2D, Input,\n",
    "                                     Lambda, Multiply, ReLU, Reshape)"
   ]
  },
  {
   "cell_type": "code",
   "execution_count": 44,
   "metadata": {
    "tags": []
   },
   "outputs": [
    {
     "output_type": "stream",
     "name": "stdout",
     "text": "Model: \"sequential_30\"\n_________________________________________________________________\nLayer (type)                 Output Shape              Param #   \n=================================================================\nconv2d_60 (Conv2D)           (None, 6, 6, 32)          2048      \n_________________________________________________________________\nconv2d_61 (Conv2D)           (None, 4, 4, 64)          18496     \n_________________________________________________________________\nglobal_average_pooling2d_44  (None, 64)                0         \n_________________________________________________________________\ndense_60 (Dense)             (None, 32)                2080      \n_________________________________________________________________\ndense_61 (Dense)             (None, 1)                 33        \n=================================================================\nTotal params: 22,657\nTrainable params: 22,657\nNon-trainable params: 0\n_________________________________________________________________\n"
    }
   ],
   "source": [
    "model = keras.Sequential(\n",
    "    layers=(\n",
    "    \tConv2D(32, (3, 3), activation=\"relu\", input_shape=(8, 8, 7)),\n",
    "    \tConv2D(64, (3, 3), activation=\"relu\"),\n",
    "    \tGlobalAveragePooling2D(),\n",
    "    \tDense(32, activation=\"relu\"),\n",
    "    \tDense(1, activation=\"tanh\")\n",
    "    )\n",
    ")\n",
    "model.summary()"
   ]
  },
  {
   "cell_type": "code",
   "execution_count": null,
   "metadata": {},
   "outputs": [],
   "source": [
    "inputs = Input(shape=(8, 8, 7))\n",
    "FILTERS = 128\n",
    "y_1 = Conv2D(FILTERS, (3, 3), padding=\"same\", activation=\"relu\")(inputs)\n",
    "BLOCKS = 10\n",
    "for _ in range(BLOCKS):\n",
    "    x = Conv2D(FILTERS, (3, 3), padding=\"same\", activation=\"relu\")(y_1)\n",
    "    y_2 = Conv2D(FILTERS, (3, 3), padding=\"same\", activation=\"relu\")(x)\n",
    "    x = GlobalAveragePooling2D()(y_2)\n",
    "    SE_CHANNELS = 32\n",
    "    x = Dense(SE_CHANNELS, activation=\"relu\")(x)\n",
    "    x = Dropout(.2)(x)\n",
    "    x = Dense(2 * FILTERS)(x)\n",
    "    x = Dropout(.2)(x)\n",
    "    x = Reshape((2, FILTERS))(x)\n",
    "    W, B = Lambda(tf.unstack, arguments=dict(axis=1))(x)\n",
    "    # THIS IS FIXED, CHANGE IN ORIGINAL\n",
    "    z = Activation(\"sigmoid\")(W)\n",
    "    z = Multiply()((z, y_2))\n",
    "    x = Add()((z, B))\n",
    "    x = Add()((x, y_1))\n",
    "    y_1 = ReLU()(x)\n",
    "VALUE_CONV_SIZE = 32\n",
    "x = Conv2D(VALUE_CONV_SIZE, (3, 3), padding=\"same\", activation=\"relu\")(y_1)\n",
    "x = Conv2D(128, (3, 3), activation=\"relu\")(x)\n",
    "x = Flatten()(x)\n",
    "outputs = Dense(1, activation=\"tanh\")(x)\n",
    "model = keras.Model(inputs=inputs, outputs=outputs)\n",
    "model.summary()"
   ]
  }
 ],
 "metadata": {
  "language_info": {
   "codemirror_mode": {
    "name": "ipython",
    "version": 3
   },
   "file_extension": ".py",
   "mimetype": "text/x-python",
   "name": "python",
   "nbconvert_exporter": "python",
   "pygments_lexer": "ipython3",
   "version": 3
  },
  "orig_nbformat": 2,
  "kernelspec": {
   "name": "python_defaultSpec_1594310797952",
   "display_name": "Python 3.7.5 64-bit"
  }
 },
 "nbformat": 4,
 "nbformat_minor": 2
}