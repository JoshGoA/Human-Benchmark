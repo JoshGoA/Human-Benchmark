{
 "cells": [
  {
   "cell_type": "code",
   "execution_count": 1,
   "metadata": {},
   "outputs": [],
   "source": [
    "import numpy as np\n",
    "from chess import engine, pgn"
   ]
  },
  {
   "cell_type": "code",
   "execution_count": 26,
   "metadata": {},
   "outputs": [],
   "source": [
    "def evaluate(info):\n",
    "    return info[\"score\"]"
   ]
  },
  {
   "cell_type": "code",
   "execution_count": 10,
   "metadata": {},
   "outputs": [],
   "source": [
    "def generate(file, command):\n",
    "    simple_engine = engine.SimpleEngine.popen_uci(command)\n",
    "    with open(file) as f:\n",
    "        while True:\n",
    "            game = pgn.read_game(f)\n",
    "            if not game:\n",
    "                break\n",
    "            mainline = game.mainline()\n",
    "            if mainline:\n",
    "                board = np.random.choice(list(mainline)).board()\n",
    "                # yield board.fen(), evaluate(simple_engine.analyse(board, engine.Limit()))\n",
    "                yield np.array([[1, 2]]), np.array([[1, 2]])"
   ]
  },
  {
   "cell_type": "code",
   "execution_count": null,
   "metadata": {},
   "outputs": [],
   "source": [
    "# Python 3.8\n",
    "def generate(file, command):\n",
    "    simple_engine = engine.SimpleEngine.popen_uci(command)\n",
    "    with open(file) as f:\n",
    "        while True:\n",
    "            if not game := pgn.read_game(f):\n",
    "                break\n",
    "            if mainline := game.mainline():\n",
    "                board = np.random.choice(list(mainline)).board()\n",
    "                yield board.fen(), evaluate(simple_engine.analyse(board, engine.Limit()))"
   ]
  },
  {
   "cell_type": "code",
   "execution_count": 11,
   "metadata": {},
   "outputs": [],
   "source": [
    "next(generate(\"../data/2019.pgn\", \"../lib/stockfish-11-win/Windows/stockfish_20011801_x64_modern.exe\"))"
   ]
  },
  {
   "cell_type": "code",
   "execution_count": null,
   "metadata": {},
   "outputs": [],
   "source": []
  }
 ],
 "metadata": {
  "language_info": {
   "codemirror_mode": {
    "name": "ipython",
    "version": 3
   },
   "file_extension": ".py",
   "mimetype": "text/x-python",
   "name": "python",
   "nbconvert_exporter": "python",
   "pygments_lexer": "ipython3",
   "version": 3
  },
  "orig_nbformat": 2,
  "kernelspec": {
   "name": "python_defaultSpec_1593601312628",
   "display_name": "Python 3.7.5 64-bit"
  }
 },
 "nbformat": 4,
 "nbformat_minor": 2
}